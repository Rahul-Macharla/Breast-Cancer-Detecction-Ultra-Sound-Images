{
 "cells": [
  {
   "cell_type": "code",
   "execution_count": 1,
   "metadata": {},
   "outputs": [],
   "source": [
    "import numpy as np \n",
    "import pandas as pd \n",
    "import matplotlib.pyplot as plt\n",
    "import cv2\n",
    "import tensorflow as tf\n",
    "from PIL import Image\n",
    "import os\n",
    "\n",
    "from sklearn.model_selection import train_test_split\n",
    "from keras.utils import to_categorical\n",
    "from keras.models import Sequential, load_model\n",
    "from keras.layers import Conv2D, MaxPool2D, Dense, Flatten, Dropout"
   ]
  },
  {
   "cell_type": "code",
   "execution_count": 2,
   "metadata": {},
   "outputs": [
    {
     "name": "stdout",
     "output_type": "stream",
     "text": [
      "['.ipynb_checkpoints', 'Augmentations', 'b1.jfif', 'b4.jpg', 'Breast Cancer ImageDataGen style.ipynb', 'Image Augmentation Code.ipynb', 'm21.jpg', 'm51.jpg', 'model', 'Model Testing.ipynb', 'python.py', 'static', 'templates', 'Test', 'Train', 'Ultrasound Classification .ipynb', 'us-dataset.zip']\n"
     ]
    }
   ],
   "source": [
    "print (os.listdir())\n",
    "#covid 0, normal 1"
   ]
  },
  {
   "cell_type": "code",
   "execution_count": 3,
   "metadata": {},
   "outputs": [],
   "source": [
    "data = []\n",
    "labels = []\n",
    "classes = 3"
   ]
  },
  {
   "cell_type": "code",
   "execution_count": 4,
   "metadata": {},
   "outputs": [],
   "source": [
    "for i in range(classes):\n",
    "    path = os.path.join('D:/DATA SCIENCE/DataSets/Research/Breast Cancer Ultrasound','Train',str(i))\n",
    "    images = os.listdir(path)\n",
    "    for a in images:\n",
    "        try:\n",
    "            image = Image.open(path + '/'+ a).convert(\"RGB\")\n",
    "            image = image.resize((30,30))\n",
    "            image = np.array(image)\n",
    "            data.append(image)\n",
    "            labels.append(i)\n",
    "        except Exception as e:\n",
    "            print(e)"
   ]
  },
  {
   "cell_type": "code",
   "execution_count": 5,
   "metadata": {},
   "outputs": [],
   "source": [
    "data = np.array(data)\n",
    "labels = np.array(labels)"
   ]
  },
  {
   "cell_type": "code",
   "execution_count": 6,
   "metadata": {},
   "outputs": [
    {
     "data": {
      "text/plain": [
       "array([[[[146, 146, 146],\n",
       "         [185, 185, 185],\n",
       "         [169, 169, 169],\n",
       "         ...,\n",
       "         [188, 188, 188],\n",
       "         [181, 181, 181],\n",
       "         [179, 179, 179]],\n",
       "\n",
       "        [[144, 144, 144],\n",
       "         [139, 139, 139],\n",
       "         [113, 113, 113],\n",
       "         ...,\n",
       "         [142, 142, 142],\n",
       "         [155, 155, 155],\n",
       "         [159, 159, 159]],\n",
       "\n",
       "        [[134, 134, 134],\n",
       "         [135, 135, 135],\n",
       "         [122, 122, 122],\n",
       "         ...,\n",
       "         [153, 153, 153],\n",
       "         [144, 144, 144],\n",
       "         [117, 117, 117]],\n",
       "\n",
       "        ...,\n",
       "\n",
       "        [[117, 117, 117],\n",
       "         [116, 116, 116],\n",
       "         [114, 114, 114],\n",
       "         ...,\n",
       "         [ 64,  64,  64],\n",
       "         [ 61,  61,  61],\n",
       "         [ 62,  62,  62]],\n",
       "\n",
       "        [[104, 104, 104],\n",
       "         [104, 104, 104],\n",
       "         [ 99,  99,  99],\n",
       "         ...,\n",
       "         [ 73,  73,  73],\n",
       "         [ 65,  65,  65],\n",
       "         [ 63,  63,  63]],\n",
       "\n",
       "        [[101, 101, 101],\n",
       "         [ 98,  98,  98],\n",
       "         [ 90,  90,  90],\n",
       "         ...,\n",
       "         [ 42,  42,  42],\n",
       "         [ 36,  36,  36],\n",
       "         [ 34,  34,  34]]],\n",
       "\n",
       "\n",
       "       [[[146, 146, 146],\n",
       "         [185, 185, 185],\n",
       "         [169, 169, 169],\n",
       "         ...,\n",
       "         [188, 188, 188],\n",
       "         [181, 181, 181],\n",
       "         [179, 179, 179]],\n",
       "\n",
       "        [[144, 144, 144],\n",
       "         [139, 139, 139],\n",
       "         [113, 113, 113],\n",
       "         ...,\n",
       "         [142, 142, 142],\n",
       "         [155, 155, 155],\n",
       "         [159, 159, 159]],\n",
       "\n",
       "        [[134, 134, 134],\n",
       "         [135, 135, 135],\n",
       "         [122, 122, 122],\n",
       "         ...,\n",
       "         [153, 153, 153],\n",
       "         [144, 144, 144],\n",
       "         [117, 117, 117]],\n",
       "\n",
       "        ...,\n",
       "\n",
       "        [[117, 117, 117],\n",
       "         [116, 116, 116],\n",
       "         [114, 114, 114],\n",
       "         ...,\n",
       "         [ 64,  64,  64],\n",
       "         [ 61,  61,  61],\n",
       "         [ 62,  62,  62]],\n",
       "\n",
       "        [[104, 104, 104],\n",
       "         [104, 104, 104],\n",
       "         [ 99,  99,  99],\n",
       "         ...,\n",
       "         [ 73,  73,  73],\n",
       "         [ 65,  65,  65],\n",
       "         [ 63,  63,  63]],\n",
       "\n",
       "        [[101, 101, 101],\n",
       "         [ 98,  98,  98],\n",
       "         [ 90,  90,  90],\n",
       "         ...,\n",
       "         [ 42,  42,  42],\n",
       "         [ 36,  36,  36],\n",
       "         [ 34,  34,  34]]],\n",
       "\n",
       "\n",
       "       [[[163, 163, 163],\n",
       "         [193, 193, 193],\n",
       "         [189, 189, 189],\n",
       "         ...,\n",
       "         [174, 174, 174],\n",
       "         [171, 171, 171],\n",
       "         [153, 153, 153]],\n",
       "\n",
       "        [[162, 162, 162],\n",
       "         [165, 165, 165],\n",
       "         [163, 163, 163],\n",
       "         ...,\n",
       "         [157, 157, 157],\n",
       "         [144, 144, 144],\n",
       "         [137, 137, 137]],\n",
       "\n",
       "        [[168, 168, 168],\n",
       "         [174, 174, 174],\n",
       "         [171, 171, 171],\n",
       "         ...,\n",
       "         [158, 158, 158],\n",
       "         [157, 157, 157],\n",
       "         [154, 154, 154]],\n",
       "\n",
       "        ...,\n",
       "\n",
       "        [[ 30,  30,  30],\n",
       "         [ 31,  31,  31],\n",
       "         [ 30,  30,  30],\n",
       "         ...,\n",
       "         [ 49,  49,  49],\n",
       "         [ 43,  43,  43],\n",
       "         [ 39,  39,  39]],\n",
       "\n",
       "        [[ 29,  29,  29],\n",
       "         [ 28,  28,  28],\n",
       "         [ 29,  29,  29],\n",
       "         ...,\n",
       "         [ 50,  50,  50],\n",
       "         [ 43,  43,  43],\n",
       "         [ 41,  41,  41]],\n",
       "\n",
       "        [[ 27,  27,  27],\n",
       "         [ 30,  30,  30],\n",
       "         [ 29,  29,  29],\n",
       "         ...,\n",
       "         [ 43,  43,  43],\n",
       "         [ 43,  43,  43],\n",
       "         [ 40,  40,  40]]],\n",
       "\n",
       "\n",
       "       ...,\n",
       "\n",
       "\n",
       "       [[[146, 146, 146],\n",
       "         [113, 113, 113],\n",
       "         [143, 143, 143],\n",
       "         ...,\n",
       "         [165, 165, 165],\n",
       "         [183, 183, 183],\n",
       "         [204, 204, 204]],\n",
       "\n",
       "        [[165, 165, 165],\n",
       "         [164, 164, 164],\n",
       "         [129, 129, 129],\n",
       "         ...,\n",
       "         [170, 170, 170],\n",
       "         [196, 196, 196],\n",
       "         [195, 195, 195]],\n",
       "\n",
       "        [[162, 162, 162],\n",
       "         [163, 163, 163],\n",
       "         [167, 167, 167],\n",
       "         ...,\n",
       "         [181, 181, 181],\n",
       "         [202, 202, 202],\n",
       "         [184, 184, 184]],\n",
       "\n",
       "        ...,\n",
       "\n",
       "        [[  1,   1,   1],\n",
       "         [  0,   0,   0],\n",
       "         [  0,   0,   0],\n",
       "         ...,\n",
       "         [  3,   3,   3],\n",
       "         [ 15,  15,  15],\n",
       "         [ 33,  33,  33]],\n",
       "\n",
       "        [[  1,   1,   1],\n",
       "         [  0,   0,   0],\n",
       "         [  0,   0,   0],\n",
       "         ...,\n",
       "         [  4,   4,   4],\n",
       "         [  3,   3,   3],\n",
       "         [  5,   5,   5]],\n",
       "\n",
       "        [[  0,   0,   0],\n",
       "         [  0,   0,   0],\n",
       "         [  0,   0,   0],\n",
       "         ...,\n",
       "         [  5,   5,   5],\n",
       "         [  6,   6,   6],\n",
       "         [  4,   4,   4]]],\n",
       "\n",
       "\n",
       "       [[[183, 183, 183],\n",
       "         [182, 182, 182],\n",
       "         [163, 163, 163],\n",
       "         ...,\n",
       "         [118, 118, 118],\n",
       "         [114, 114, 114],\n",
       "         [ 90,  90,  90]],\n",
       "\n",
       "        [[173, 173, 173],\n",
       "         [185, 185, 185],\n",
       "         [176, 176, 176],\n",
       "         ...,\n",
       "         [117, 117, 117],\n",
       "         [ 91,  91,  91],\n",
       "         [ 89,  89,  89]],\n",
       "\n",
       "        [[175, 175, 175],\n",
       "         [175, 175, 175],\n",
       "         [184, 184, 184],\n",
       "         ...,\n",
       "         [ 91,  91,  91],\n",
       "         [ 89,  89,  89],\n",
       "         [ 78,  78,  78]],\n",
       "\n",
       "        ...,\n",
       "\n",
       "        [[ 47,  47,  47],\n",
       "         [ 38,  38,  38],\n",
       "         [ 42,  42,  42],\n",
       "         ...,\n",
       "         [ 96,  96,  96],\n",
       "         [ 92,  92,  92],\n",
       "         [ 92,  92,  92]],\n",
       "\n",
       "        [[ 38,  38,  38],\n",
       "         [ 42,  42,  42],\n",
       "         [ 30,  30,  30],\n",
       "         ...,\n",
       "         [ 90,  90,  90],\n",
       "         [ 97,  97,  97],\n",
       "         [ 91,  91,  91]],\n",
       "\n",
       "        [[ 43,  43,  43],\n",
       "         [ 32,  32,  32],\n",
       "         [ 29,  29,  29],\n",
       "         ...,\n",
       "         [101, 101, 101],\n",
       "         [ 92,  92,  92],\n",
       "         [ 95,  95,  95]]],\n",
       "\n",
       "\n",
       "       [[[141, 141, 141],\n",
       "         [117, 117, 117],\n",
       "         [100, 100, 100],\n",
       "         ...,\n",
       "         [ 52,  52,  52],\n",
       "         [ 51,  51,  51],\n",
       "         [ 43,  43,  43]],\n",
       "\n",
       "        [[124, 124, 124],\n",
       "         [114, 114, 114],\n",
       "         [112, 112, 112],\n",
       "         ...,\n",
       "         [ 52,  52,  52],\n",
       "         [ 44,  44,  44],\n",
       "         [ 39,  39,  39]],\n",
       "\n",
       "        [[114, 114, 114],\n",
       "         [124, 124, 124],\n",
       "         [149, 149, 149],\n",
       "         ...,\n",
       "         [ 44,  44,  44],\n",
       "         [ 38,  38,  38],\n",
       "         [ 37,  37,  37]],\n",
       "\n",
       "        ...,\n",
       "\n",
       "        [[ 33,  33,  33],\n",
       "         [ 32,  32,  32],\n",
       "         [ 36,  36,  36],\n",
       "         ...,\n",
       "         [ 18,  18,  18],\n",
       "         [ 17,  17,  17],\n",
       "         [ 16,  16,  16]],\n",
       "\n",
       "        [[ 28,  28,  28],\n",
       "         [ 25,  25,  25],\n",
       "         [ 27,  27,  27],\n",
       "         ...,\n",
       "         [ 18,  18,  18],\n",
       "         [ 17,  17,  17],\n",
       "         [ 17,  17,  17]],\n",
       "\n",
       "        [[ 17,  17,  17],\n",
       "         [ 18,  18,  18],\n",
       "         [ 23,  23,  23],\n",
       "         ...,\n",
       "         [ 18,  18,  18],\n",
       "         [ 18,  18,  18],\n",
       "         [ 17,  17,  17]]]], dtype=uint8)"
      ]
     },
     "execution_count": 6,
     "metadata": {},
     "output_type": "execute_result"
    }
   ],
   "source": [
    "data"
   ]
  },
  {
   "cell_type": "code",
   "execution_count": 7,
   "metadata": {},
   "outputs": [],
   "source": [
    "#data = data / data.max()"
   ]
  },
  {
   "cell_type": "code",
   "execution_count": 8,
   "metadata": {},
   "outputs": [],
   "source": [
    "#data"
   ]
  },
  {
   "cell_type": "code",
   "execution_count": 9,
   "metadata": {},
   "outputs": [
    {
     "data": {
      "text/plain": [
       "array([0, 0, 0, ..., 2, 2, 2])"
      ]
     },
     "execution_count": 9,
     "metadata": {},
     "output_type": "execute_result"
    }
   ],
   "source": [
    "labels"
   ]
  },
  {
   "cell_type": "code",
   "execution_count": 10,
   "metadata": {},
   "outputs": [],
   "source": [
    "os.mkdir('modelimprovement')\n",
    "\n",
    "np.save('./model/data',data)\n",
    "np.save('./model/target',labels)"
   ]
  },
  {
   "cell_type": "code",
   "execution_count": 11,
   "metadata": {},
   "outputs": [],
   "source": [
    "data=np.load('./model/data.npy')\n",
    "labels=np.load('./model/target.npy')"
   ]
  },
  {
   "cell_type": "code",
   "execution_count": 12,
   "metadata": {},
   "outputs": [
    {
     "name": "stdout",
     "output_type": "stream",
     "text": [
      "(2511, 30, 30, 3) (2511,)\n"
     ]
    }
   ],
   "source": [
    "print(data.shape, labels.shape)"
   ]
  },
  {
   "cell_type": "code",
   "execution_count": 13,
   "metadata": {},
   "outputs": [],
   "source": [
    "X_train, X_test, y_train, y_test = train_test_split(data, labels, test_size=0.2, random_state=5)"
   ]
  },
  {
   "cell_type": "code",
   "execution_count": 14,
   "metadata": {},
   "outputs": [
    {
     "name": "stdout",
     "output_type": "stream",
     "text": [
      "(2008, 30, 30, 3) (503, 30, 30, 3) (2008,) (503,)\n"
     ]
    }
   ],
   "source": [
    "print(X_train.shape, X_test.shape, y_train.shape, y_test.shape)"
   ]
  },
  {
   "cell_type": "markdown",
   "metadata": {},
   "source": [
    "## Convert labels to onehot encoding"
   ]
  },
  {
   "cell_type": "code",
   "execution_count": 15,
   "metadata": {},
   "outputs": [],
   "source": [
    "y_train = to_categorical(y_train, 10)\n",
    "y_test = to_categorical(y_test, 10)"
   ]
  },
  {
   "cell_type": "code",
   "execution_count": 16,
   "metadata": {},
   "outputs": [
    {
     "data": {
      "text/plain": [
       "array([[0., 0., 1., ..., 0., 0., 0.],\n",
       "       [1., 0., 0., ..., 0., 0., 0.],\n",
       "       [1., 0., 0., ..., 0., 0., 0.],\n",
       "       ...,\n",
       "       [0., 1., 0., ..., 0., 0., 0.],\n",
       "       [0., 0., 1., ..., 0., 0., 0.],\n",
       "       [0., 1., 0., ..., 0., 0., 0.]], dtype=float32)"
      ]
     },
     "execution_count": 16,
     "metadata": {},
     "output_type": "execute_result"
    }
   ],
   "source": [
    "y_test"
   ]
  },
  {
   "cell_type": "code",
   "execution_count": 17,
   "metadata": {},
   "outputs": [],
   "source": [
    "model = Sequential()\n",
    "model.add(Conv2D(filters=32, kernel_size=(5,5), activation='relu', input_shape=X_train.shape[1:]))\n",
    "model.add(Conv2D(filters=32, kernel_size=(5,5), activation='relu'))\n",
    "model.add(MaxPool2D(pool_size=(2, 2)))\n",
    "model.add(Dropout(rate=0.25))\n",
    "model.add(Conv2D(filters=64, kernel_size=(3, 3), activation='relu'))\n",
    "model.add(Conv2D(filters=64, kernel_size=(3, 3), activation='relu'))\n",
    "model.add(MaxPool2D(pool_size=(2, 2)))\n",
    "model.add(Dropout(rate=0.25))\n",
    "model.add(MaxPool2D(pool_size=(2, 2)))\n",
    "model.add(Dropout(rate=0.25))\n",
    "model.add(Flatten())\n",
    "model.add(Dense(30, activation='relu'))\n",
    "model.add(Dropout(rate=0.25))\n",
    "model.add(Dense(10, activation='softmax'))"
   ]
  },
  {
   "cell_type": "code",
   "execution_count": 18,
   "metadata": {},
   "outputs": [],
   "source": [
    "from tensorflow.keras.optimizers import Adam\n",
    "# Learning Rate and Decay Rate: Reduce the learning rate, a good starting value is usually between 0.0005 to 0.001.\n",
    "# Also consider a decay rate of 1e-6."
   ]
  },
  {
   "cell_type": "code",
   "execution_count": 19,
   "metadata": {},
   "outputs": [],
   "source": [
    "lr= 0.05\n",
    "epochs = 50"
   ]
  },
  {
   "cell_type": "code",
   "execution_count": 20,
   "metadata": {},
   "outputs": [],
   "source": [
    "#opt = Adam(lr=lr, decay=lr/epochs)\n",
    "model.compile(loss='categorical_crossentropy', optimizer='adam', metrics=['accuracy'])"
   ]
  },
  {
   "cell_type": "code",
   "execution_count": 21,
   "metadata": {
    "scrolled": false
   },
   "outputs": [
    {
     "name": "stdout",
     "output_type": "stream",
     "text": [
      "Epoch 1/50\n",
      "41/41 [==============================] - 9s 176ms/step - loss: 6.4799 - accuracy: 0.2912 - val_loss: 1.6305 - val_accuracy: 0.3499\n",
      "Epoch 2/50\n",
      "41/41 [==============================] - 6s 157ms/step - loss: 1.5009 - accuracy: 0.3409 - val_loss: 1.3140 - val_accuracy: 0.3658\n",
      "Epoch 3/50\n",
      "41/41 [==============================] - 7s 164ms/step - loss: 1.3725 - accuracy: 0.3423 - val_loss: 1.3285 - val_accuracy: 0.4235\n",
      "Epoch 4/50\n",
      "41/41 [==============================] - 5s 121ms/step - loss: 1.2905 - accuracy: 0.3605 - val_loss: 1.1951 - val_accuracy: 0.4076\n",
      "Epoch 5/50\n",
      "41/41 [==============================] - 5s 117ms/step - loss: 1.2275 - accuracy: 0.3842 - val_loss: 1.1180 - val_accuracy: 0.4831\n",
      "Epoch 6/50\n",
      "41/41 [==============================] - 6s 143ms/step - loss: 1.1399 - accuracy: 0.4190 - val_loss: 1.0560 - val_accuracy: 0.4930\n",
      "Epoch 7/50\n",
      "41/41 [==============================] - 6s 155ms/step - loss: 1.1048 - accuracy: 0.4440 - val_loss: 1.0237 - val_accuracy: 0.5427\n",
      "Epoch 8/50\n",
      "41/41 [==============================] - 5s 121ms/step - loss: 1.0656 - accuracy: 0.4837 - val_loss: 0.9541 - val_accuracy: 0.5984\n",
      "Epoch 9/50\n",
      "41/41 [==============================] - 6s 135ms/step - loss: 1.0371 - accuracy: 0.5098 - val_loss: 0.9182 - val_accuracy: 0.5567\n",
      "Epoch 10/50\n",
      "41/41 [==============================] - 5s 122ms/step - loss: 1.0468 - accuracy: 0.4994 - val_loss: 0.9079 - val_accuracy: 0.6103\n",
      "Epoch 11/50\n",
      "41/41 [==============================] - 5s 119ms/step - loss: 0.9729 - accuracy: 0.5273 - val_loss: 0.9243 - val_accuracy: 0.5845\n",
      "Epoch 12/50\n",
      "41/41 [==============================] - 5s 128ms/step - loss: 0.9542 - accuracy: 0.5465 - val_loss: 0.8235 - val_accuracy: 0.6441\n",
      "Epoch 13/50\n",
      "41/41 [==============================] - 7s 164ms/step - loss: 0.9463 - accuracy: 0.5435 - val_loss: 0.8401 - val_accuracy: 0.6461\n",
      "Epoch 14/50\n",
      "41/41 [==============================] - 5s 130ms/step - loss: 0.9160 - accuracy: 0.5715 - val_loss: 0.8313 - val_accuracy: 0.6501\n",
      "Epoch 15/50\n",
      "41/41 [==============================] - 6s 136ms/step - loss: 0.9237 - accuracy: 0.5420 - val_loss: 0.8611 - val_accuracy: 0.6541\n",
      "Epoch 16/50\n",
      "41/41 [==============================] - 6s 139ms/step - loss: 0.9509 - accuracy: 0.5595 - val_loss: 0.8312 - val_accuracy: 0.6362\n",
      "Epoch 17/50\n",
      "41/41 [==============================] - 5s 134ms/step - loss: 0.8941 - accuracy: 0.5899 - val_loss: 0.7981 - val_accuracy: 0.6819\n",
      "Epoch 18/50\n",
      "41/41 [==============================] - 6s 155ms/step - loss: 0.8389 - accuracy: 0.6043 - val_loss: 0.8223 - val_accuracy: 0.6640\n",
      "Epoch 19/50\n",
      "41/41 [==============================] - 6s 136ms/step - loss: 0.8514 - accuracy: 0.6117 - val_loss: 0.8361 - val_accuracy: 0.6620\n",
      "Epoch 20/50\n",
      "41/41 [==============================] - 6s 144ms/step - loss: 0.8403 - accuracy: 0.6130 - val_loss: 0.7683 - val_accuracy: 0.7157\n",
      "Epoch 21/50\n",
      "41/41 [==============================] - 5s 128ms/step - loss: 0.8200 - accuracy: 0.6361 - val_loss: 0.7643 - val_accuracy: 0.6720\n",
      "Epoch 22/50\n",
      "41/41 [==============================] - 7s 170ms/step - loss: 0.8146 - accuracy: 0.6256 - val_loss: 0.7196 - val_accuracy: 0.7117\n",
      "Epoch 23/50\n",
      "41/41 [==============================] - 7s 166ms/step - loss: 0.7770 - accuracy: 0.6712 - val_loss: 0.7367 - val_accuracy: 0.7018\n",
      "Epoch 24/50\n",
      "41/41 [==============================] - 6s 147ms/step - loss: 0.7855 - accuracy: 0.6404 - val_loss: 0.7143 - val_accuracy: 0.7157\n",
      "Epoch 25/50\n",
      "41/41 [==============================] - 7s 171ms/step - loss: 0.7657 - accuracy: 0.6632 - val_loss: 0.7324 - val_accuracy: 0.6799\n",
      "Epoch 26/50\n",
      "41/41 [==============================] - 6s 135ms/step - loss: 0.7384 - accuracy: 0.6750 - val_loss: 0.6638 - val_accuracy: 0.7356\n",
      "Epoch 27/50\n",
      "41/41 [==============================] - 6s 143ms/step - loss: 0.6976 - accuracy: 0.7023 - val_loss: 0.7419 - val_accuracy: 0.7038\n",
      "Epoch 28/50\n",
      "41/41 [==============================] - 6s 141ms/step - loss: 0.7266 - accuracy: 0.6858 - val_loss: 0.6545 - val_accuracy: 0.7336\n",
      "Epoch 29/50\n",
      "41/41 [==============================] - 6s 142ms/step - loss: 0.6950 - accuracy: 0.7055 - val_loss: 0.6191 - val_accuracy: 0.7515\n",
      "Epoch 30/50\n",
      "41/41 [==============================] - 7s 160ms/step - loss: 0.6743 - accuracy: 0.7059 - val_loss: 0.6572 - val_accuracy: 0.7396\n",
      "Epoch 31/50\n",
      "41/41 [==============================] - 6s 143ms/step - loss: 0.6683 - accuracy: 0.7034 - val_loss: 0.6130 - val_accuracy: 0.7654\n",
      "Epoch 32/50\n",
      "41/41 [==============================] - 7s 166ms/step - loss: 0.6056 - accuracy: 0.7425 - val_loss: 0.6571 - val_accuracy: 0.7296\n",
      "Epoch 33/50\n",
      "41/41 [==============================] - 6s 149ms/step - loss: 0.6960 - accuracy: 0.6960 - val_loss: 0.6310 - val_accuracy: 0.7435\n",
      "Epoch 34/50\n",
      "41/41 [==============================] - 6s 137ms/step - loss: 0.6314 - accuracy: 0.7402 - val_loss: 0.5982 - val_accuracy: 0.7594\n",
      "Epoch 35/50\n",
      "41/41 [==============================] - 6s 136ms/step - loss: 0.5980 - accuracy: 0.7425 - val_loss: 0.5784 - val_accuracy: 0.7793\n",
      "Epoch 36/50\n",
      "41/41 [==============================] - 6s 136ms/step - loss: 0.5819 - accuracy: 0.7579 - val_loss: 0.6117 - val_accuracy: 0.7316\n",
      "Epoch 37/50\n",
      "41/41 [==============================] - 6s 146ms/step - loss: 0.5575 - accuracy: 0.7654 - val_loss: 0.5150 - val_accuracy: 0.7992\n",
      "Epoch 38/50\n",
      "41/41 [==============================] - 6s 139ms/step - loss: 0.5177 - accuracy: 0.7884 - val_loss: 0.5343 - val_accuracy: 0.7694\n",
      "Epoch 39/50\n",
      "41/41 [==============================] - 7s 162ms/step - loss: 0.5248 - accuracy: 0.7755 - val_loss: 0.5369 - val_accuracy: 0.7753\n",
      "Epoch 40/50\n",
      "41/41 [==============================] - 7s 171ms/step - loss: 0.5091 - accuracy: 0.7973 - val_loss: 0.5647 - val_accuracy: 0.7734\n",
      "Epoch 41/50\n",
      "41/41 [==============================] - 6s 152ms/step - loss: 0.5253 - accuracy: 0.7929 - val_loss: 0.5210 - val_accuracy: 0.7753\n",
      "Epoch 42/50\n",
      "41/41 [==============================] - 6s 158ms/step - loss: 0.4790 - accuracy: 0.8212 - val_loss: 0.4973 - val_accuracy: 0.8012\n",
      "Epoch 43/50\n",
      "41/41 [==============================] - 7s 168ms/step - loss: 0.5150 - accuracy: 0.7971 - val_loss: 0.5906 - val_accuracy: 0.7594\n",
      "Epoch 44/50\n",
      "41/41 [==============================] - 6s 141ms/step - loss: 0.5268 - accuracy: 0.7866 - val_loss: 0.5949 - val_accuracy: 0.7654\n",
      "Epoch 45/50\n",
      "41/41 [==============================] - 5s 134ms/step - loss: 0.4887 - accuracy: 0.7940 - val_loss: 0.5208 - val_accuracy: 0.7873\n",
      "Epoch 46/50\n",
      "41/41 [==============================] - 6s 139ms/step - loss: 0.4410 - accuracy: 0.8179 - val_loss: 0.4772 - val_accuracy: 0.8290\n",
      "Epoch 47/50\n",
      "41/41 [==============================] - 6s 136ms/step - loss: 0.4241 - accuracy: 0.8257 - val_loss: 0.5107 - val_accuracy: 0.8032\n",
      "Epoch 48/50\n",
      "41/41 [==============================] - 6s 137ms/step - loss: 0.4232 - accuracy: 0.8326 - val_loss: 0.5367 - val_accuracy: 0.7992\n",
      "Epoch 49/50\n",
      "41/41 [==============================] - 6s 136ms/step - loss: 0.5002 - accuracy: 0.7980 - val_loss: 0.5640 - val_accuracy: 0.7813\n",
      "Epoch 50/50\n",
      "41/41 [==============================] - 6s 135ms/step - loss: 0.4346 - accuracy: 0.8305 - val_loss: 0.5100 - val_accuracy: 0.7714\n"
     ]
    }
   ],
   "source": [
    "history = model.fit(X_train, y_train, batch_size=50, epochs=epochs, validation_data=(X_test, y_test))"
   ]
  },
  {
   "cell_type": "code",
   "execution_count": 22,
   "metadata": {},
   "outputs": [
    {
     "data": {
      "image/png": "[encoded data removed]",
      "text/plain": [
       "<Figure size 432x288 with 1 Axes>"
      ]
     },
     "metadata": {
      "needs_background": "light"
     },
     "output_type": "display_data"
    }
   ],
   "source": [
    "# accuracy \n",
    "plt.figure(0)\n",
    "plt.plot(history.history['accuracy'], label='training accuracy')\n",
    "plt.plot(history.history['val_accuracy'], label='val accuracy')\n",
    "plt.title('Accuracy')\n",
    "plt.xlabel('epochs')\n",
    "plt.ylabel('accuracy')\n",
    "plt.legend()\n",
    "plt.show()"
   ]
  },
  {
   "cell_type": "code",
   "execution_count": 23,
   "metadata": {},
   "outputs": [
    {
     "data": {
      "image/png": "[encoded data removed]",
      "text/plain": [
       "<Figure size 432x288 with 1 Axes>"
      ]
     },
     "metadata": {
      "needs_background": "light"
     },
     "output_type": "display_data"
    }
   ],
   "source": [
    "# Loss\n",
    "plt.plot(history.history['loss'], label='training loss')\n",
    "plt.plot(history.history['val_loss'], label='val loss')\n",
    "plt.title('Loss')\n",
    "plt.xlabel('epochs')\n",
    "plt.ylabel('loss')\n",
    "plt.legend()\n",
    "plt.show()"
   ]
  },
  {
   "cell_type": "markdown",
   "metadata": {},
   "source": [
    "## LEt's do testing on Test data"
   ]
  },
  {
   "cell_type": "markdown",
   "metadata": {},
   "source": [
    "## Save the model"
   ]
  },
  {
   "cell_type": "code",
   "execution_count": 24,
   "metadata": {},
   "outputs": [],
   "source": [
    "model.save(\"./modelimprovement/model.h5\")"
   ]
  },
  {
   "cell_type": "markdown",
   "metadata": {},
   "source": [
    "## Load the Model"
   ]
  },
  {
   "cell_type": "code",
   "execution_count": 25,
   "metadata": {},
   "outputs": [],
   "source": [
    "import os\n",
    "os.chdir(r'D:\\DATA SCIENCE\\DataSets\\Research\\Projects')\n",
    "from keras.models import load_model\n",
    "model = load_model(r'D:\\DATA SCIENCE\\DataSets\\Research\\Breast Cancer Ultrasound\\modelimprovement\\model.h5')"
   ]
  },
  {
   "cell_type": "code",
   "execution_count": 26,
   "metadata": {},
   "outputs": [],
   "source": [
    "classes = { 0:'Benign',\n",
    "            1:'Malignant',\n",
    "            2:'Normal'}"
   ]
  },
  {
   "cell_type": "code",
   "execution_count": 27,
   "metadata": {},
   "outputs": [],
   "source": [
    "from PIL import Image\n",
    "import numpy as np\n",
    "import matplotlib.pyplot as plt\n",
    "def test_on_img(img):\n",
    "    data=[]\n",
    "    image = Image.open(img)\n",
    "    image = image.resize((30,30)).convert(\"RGB\")\n",
    "    data.append(np.array(image))\n",
    "    X_test=np.array(data)\n",
    "    Y_pred = model.predict_classes(X_test)\n",
    "    return image,Y_pred"
   ]
  },
  {
   "cell_type": "code",
   "execution_count": 28,
   "metadata": {},
   "outputs": [
    {
     "name": "stderr",
     "output_type": "stream",
     "text": [
      "C:\\Users\\Rahul\\anaconda3\\lib\\site-packages\\tensorflow\\python\\keras\\engine\\sequential.py:450: UserWarning: `model.predict_classes()` is deprecated and will be removed after 2021-01-01. Please use instead:* `np.argmax(model.predict(x), axis=-1)`,   if your model does multi-class classification   (e.g. if it uses a `softmax` last-layer activation).* `(model.predict(x) > 0.5).astype(\"int32\")`,   if your model does binary classification   (e.g. if it uses a `sigmoid` last-layer activation).\n",
      "  warnings.warn('`model.predict_classes()` is deprecated and '\n"
     ]
    },
    {
     "name": "stdout",
     "output_type": "stream",
     "text": [
      "Predicted Ultra sound image is :  Benign\n"
     ]
    },
    {
     "data": {
      "image/png": "[encoded data removed]",
      "text/plain": [
       "<Figure size 432x288 with 1 Axes>"
      ]
     },
     "metadata": {
      "needs_background": "light"
     },
     "output_type": "display_data"
    }
   ],
   "source": [
    "plot,prediction = test_on_img(r'D:\\DATA SCIENCE\\DataSets\\Research\\Breast Cancer Ultrasound\\Test\\0\\benign (95).png')\n",
    "s = [str(i) for i in prediction] \n",
    "a = int(\"\".join(s)) \n",
    "print(\"Predicted Ultra sound image is : \", classes[a])\n",
    "plt.imshow(plot)\n",
    "plt.show()"
   ]
  },
  {
   "cell_type": "code",
   "execution_count": 29,
   "metadata": {},
   "outputs": [
    {
     "name": "stdout",
     "output_type": "stream",
     "text": [
      "Predicted Ultra sound image is :  Malignant\n"
     ]
    },
    {
     "data": {
      "image/png": "[encoded data removed]",
      "text/plain": [
       "<Figure size 432x288 with 1 Axes>"
      ]
     },
     "metadata": {
      "needs_background": "light"
     },
     "output_type": "display_data"
    }
   ],
   "source": [
    "plot,prediction = test_on_img(r'D:\\DATA SCIENCE\\DataSets\\Research\\Breast Cancer Ultrasound\\Test\\1\\malignant (155).png')\n",
    "s = [str(i) for i in prediction] \n",
    "a = int(\"\".join(s)) \n",
    "print(\"Predicted Ultra sound image is : \", classes[a])\n",
    "plt.imshow(plot)\n",
    "plt.show()\n",
    "# 1 wrong prediction"
   ]
  },
  {
   "cell_type": "code",
   "execution_count": 30,
   "metadata": {},
   "outputs": [
    {
     "name": "stdout",
     "output_type": "stream",
     "text": [
      "Predicted Ultra sound image is :  Normal\n"
     ]
    },
    {
     "data": {
      "image/png": "[encoded data removed]",
      "text/plain": [
       "<Figure size 432x288 with 1 Axes>"
      ]
     },
     "metadata": {
      "needs_background": "light"
     },
     "output_type": "display_data"
    }
   ],
   "source": [
    "plot,prediction = test_on_img(r'D:\\DATA SCIENCE\\DataSets\\Research\\Breast Cancer Ultrasound\\Test\\2\\normal (133).png')\n",
    "s = [str(i) for i in prediction] \n",
    "a = int(\"\".join(s)) \n",
    "print(\"Predicted Ultra sound image is : \", classes[a])\n",
    "plt.imshow(plot)\n",
    "plt.show()"
   ]
  },
  {
   "cell_type": "code",
   "execution_count": 38,
   "metadata": {},
   "outputs": [],
   "source": [
    "folder_path=(r'D:\\DATA SCIENCE\\DataSets\\Research\\Breast Cancer Ultrasound\\Test\\0')"
   ]
  },
  {
   "cell_type": "code",
   "execution_count": 39,
   "metadata": {},
   "outputs": [],
   "source": [
    "# load all images into a list\n",
    "images = []\n",
    "for img in os.listdir(folder_path):\n",
    "    img = os.path.join(folder_path, img)\n",
    "    image = Image.open(img)\n",
    "    image = image.resize((30,30))\n",
    "    image = np.expand_dims(image, axis=0)\n",
    "    images.append(np.array(image))"
   ]
  },
  {
   "cell_type": "code",
   "execution_count": 40,
   "metadata": {},
   "outputs": [
    {
     "name": "stdout",
     "output_type": "stream",
     "text": [
      "[0 0 0 0 0 0 0]\n"
     ]
    }
   ],
   "source": [
    "# stack up images list to pass for prediction\n",
    "images = np.vstack(images)\n",
    "classes = model.predict_classes(images, batch_size=10)\n",
    "print(classes)"
   ]
  },
  {
   "cell_type": "code",
   "execution_count": 41,
   "metadata": {},
   "outputs": [],
   "source": [
    "#30,30 model, Previously Trained model gave the below accuracy \n",
    "#Epoch 50/50\n",
    "#33/33 [==============================] - 3s 101ms/step - loss: 0.3501 - accuracy: 0.8667 - val_loss: 0.4979 - val_accuracy: 0.8217"
   ]
  }
 ],
 "metadata": {
  "kernelspec": {
   "display_name": "Python 3",
   "language": "python",
   "name": "python3"
  },
  "language_info": {
   "codemirror_mode": {
    "name": "ipython",
    "version": 3
   },
   "file_extension": ".py",
   "mimetype": "text/x-python",
   "name": "python",
   "nbconvert_exporter": "python",
   "pygments_lexer": "ipython3",
   "version": "3.8.5"
  }
 },
 "nbformat": 4,
 "nbformat_minor": 4
}
